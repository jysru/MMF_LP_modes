{
 "cells": [
  {
   "attachments": {},
   "cell_type": "markdown",
   "metadata": {},
   "source": [
    "## Dataset generation from deformable mirror and GRIN fiber"
   ]
  },
  {
   "cell_type": "code",
   "execution_count": null,
   "metadata": {},
   "outputs": [],
   "source": [
    "%load_ext autoreload\n",
    "%autoreload 2\n",
    "\n",
    "import numpy as np\n",
    "import matplotlib.pyplot as plt\n",
    "\n",
    "from mmfsim.grid import Grid\n",
    "from mmfsim.fiber import GrinFiber\n",
    "from mmfsim.datasets import SimulatedGrinSpeckleOutputDataset"
   ]
  },
  {
   "cell_type": "code",
   "execution_count": null,
   "metadata": {},
   "outputs": [],
   "source": [
    "grid = Grid(pixel_size=0.5e-6, pixel_numbers=(128,128))\n",
    "fiber = GrinFiber(radius=26e-6, wavelength=1064e-9, n1=1.465, n2=1.45)\n",
    "print(fiber)\n",
    "coupling_matrix = fiber.modes_coupling_matrix(complex=complex, full=False, degen=True)"
   ]
  },
  {
   "cell_type": "code",
   "execution_count": null,
   "metadata": {},
   "outputs": [],
   "source": [
    "dset = SimulatedGrinSpeckleOutputDataset(fiber, grid, length=10, N_modes=113, degen=True, noise_std=0/100)\n",
    "dset._coupling_matrix = coupling_matrix\n",
    "dset.compute_from_transfer_matrix(phases_dim=(6,6))\n",
    "# dset.compute_fourier_transforms(pad=1)"
   ]
  },
  {
   "cell_type": "code",
   "execution_count": null,
   "metadata": {},
   "outputs": [],
   "source": [
    "ridx = np.random.randint(0, dset._fields.shape[-1])\n",
    "plt.imshow(dset[ridx])"
   ]
  },
  {
   "cell_type": "code",
   "execution_count": null,
   "metadata": {},
   "outputs": [],
   "source": [
    "dset.export(return_output_fields=True, add_exp_noise=False, noise_func=np.max, file_type='hdf5')"
   ]
  }
 ],
 "metadata": {
  "kernelspec": {
   "display_name": ".venv",
   "language": "python",
   "name": "python3"
  },
  "language_info": {
   "codemirror_mode": {
    "name": "ipython",
    "version": 3
   },
   "file_extension": ".py",
   "mimetype": "text/x-python",
   "name": "python",
   "nbconvert_exporter": "python",
   "pygments_lexer": "ipython3",
   "version": "3.9.13"
  },
  "orig_nbformat": 4
 },
 "nbformat": 4,
 "nbformat_minor": 2
}
