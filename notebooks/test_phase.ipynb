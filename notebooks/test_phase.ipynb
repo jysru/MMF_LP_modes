{
 "cells": [
  {
   "attachments": {},
   "cell_type": "markdown",
   "metadata": {},
   "source": [
    "## Test phase generation capabilities\n",
    "\n",
    "### Imports"
   ]
  },
  {
   "cell_type": "code",
   "execution_count": null,
   "metadata": {},
   "outputs": [],
   "source": [
    "%load_ext autoreload\n",
    "%autoreload 2\n",
    "\n",
    "import numpy as np\n",
    "import matplotlib.pyplot as plt\n",
    "\n",
    "from mmfsim.grid import Grid\n",
    "import mmfsim.phase as phi"
   ]
  },
  {
   "attachments": {},
   "cell_type": "markdown",
   "metadata": {},
   "source": [
    "### Flat phase"
   ]
  },
  {
   "cell_type": "code",
   "execution_count": null,
   "metadata": {},
   "outputs": [],
   "source": [
    "grid = Grid(pixel_size=0.5e-6, pixel_numbers=(128,128))\n",
    "phase = phi.FlatPhase(grid)\n",
    "phase.compute(offset=1)\n",
    "phase.plot()"
   ]
  },
  {
   "attachments": {},
   "cell_type": "markdown",
   "metadata": {},
   "source": [
    "### Linear phase"
   ]
  },
  {
   "cell_type": "code",
   "execution_count": null,
   "metadata": {},
   "outputs": [],
   "source": [
    "grid = Grid(pixel_size=0.5e-6, pixel_numbers=(128,128))\n",
    "phase = phi.LinearPhase(grid)\n",
    "phase.compute(coeffs=[20e-6, 100e-6])\n",
    "phase.plot()"
   ]
  },
  {
   "attachments": {},
   "cell_type": "markdown",
   "metadata": {},
   "source": [
    "### Quadratic phase"
   ]
  },
  {
   "cell_type": "code",
   "execution_count": null,
   "metadata": {},
   "outputs": [],
   "source": [
    "grid = Grid(pixel_size=0.5e-6, pixel_numbers=(128,128))\n",
    "phase = phi.QuadraticPhase(grid)\n",
    "phase.compute(coeffs=[10e-6, 20e-6])\n",
    "phase.plot()"
   ]
  },
  {
   "attachments": {},
   "cell_type": "markdown",
   "metadata": {},
   "source": [
    "### Power phase"
   ]
  },
  {
   "cell_type": "code",
   "execution_count": null,
   "metadata": {},
   "outputs": [],
   "source": [
    "grid = Grid(pixel_size=0.5e-6, pixel_numbers=(128,128))\n",
    "phase = phi.PowerPhase(grid)\n",
    "phase.compute(coeffs=[20e-6, 20e-6], order=3)\n",
    "phase.plot()"
   ]
  },
  {
   "attachments": {},
   "cell_type": "markdown",
   "metadata": {},
   "source": [
    "### Vortex phase"
   ]
  },
  {
   "cell_type": "code",
   "execution_count": null,
   "metadata": {},
   "outputs": [],
   "source": [
    "phase = phi.VortexPhase(grid)\n",
    "phase.compute(offset=0, order=3)\n",
    "phase.plot()"
   ]
  },
  {
   "attachments": {},
   "cell_type": "markdown",
   "metadata": {},
   "source": [
    "### Composite phase\n",
    "\n",
    "Sum of elementary phase maps"
   ]
  },
  {
   "cell_type": "code",
   "execution_count": null,
   "metadata": {},
   "outputs": [],
   "source": [
    "grid = Grid(pixel_size=0.5e-6, pixel_numbers=(128,128))\n",
    "\n",
    "p1 = phi.PowerPhase(grid)\n",
    "p1.compute(coeffs=[10e-6, 1], order=1)\n",
    "\n",
    "p2 = phi.PowerPhase(grid)\n",
    "p2.compute(coeffs=[30e-6, 30e-6], order=2)\n",
    "\n",
    "p3 = phi.PowerPhase(grid)\n",
    "p3.compute(coeffs=[30e-6, 30e-6], order=3)\n",
    "\n",
    "phase = phi.VortexPhase(grid)\n",
    "phase.compute(offset=0, order=1)\n",
    "phase += p1 + p2 + p3\n",
    "phase.plot()"
   ]
  }
 ],
 "metadata": {
  "kernelspec": {
   "display_name": ".venv",
   "language": "python",
   "name": "python3"
  },
  "language_info": {
   "codemirror_mode": {
    "name": "ipython",
    "version": 3
   },
   "file_extension": ".py",
   "mimetype": "text/x-python",
   "name": "python",
   "nbconvert_exporter": "python",
   "pygments_lexer": "ipython3",
   "version": "3.9.13"
  },
  "orig_nbformat": 4
 },
 "nbformat": 4,
 "nbformat_minor": 2
}
