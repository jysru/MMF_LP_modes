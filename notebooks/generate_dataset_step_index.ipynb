{
 "cells": [
  {
   "attachments": {},
   "cell_type": "markdown",
   "metadata": {},
   "source": [
    "## Dataset generation from deformable mirror and GRIN fiber"
   ]
  },
  {
   "cell_type": "code",
   "execution_count": 1,
   "metadata": {},
   "outputs": [],
   "source": [
    "%load_ext autoreload\n",
    "%autoreload 2\n",
    "\n",
    "import numpy as np\n",
    "import matplotlib.pyplot as plt\n",
    "\n",
    "from mmfsim.grid import Grid\n",
    "from mmfsim.fiber import StepIndexFiber\n",
    "from mmfsim.datasets import SimulatedStepIndexSpeckleOutputDataset"
   ]
  },
  {
   "cell_type": "code",
   "execution_count": 2,
   "metadata": {},
   "outputs": [
    {
     "name": "stderr",
     "output_type": "stream",
     "text": [
      "c:\\users\\saucourt\\coding\\mmf_lp_modes\\mmfsim\\fiber.py:176: RuntimeWarning: invalid value encountered in divide\n",
      "  return sp.jv(n, u) / (u * sp.jv(n - 1, u)) + sp.kn(n, w) / (w * sp.kn(n - 1, w))\n"
     ]
    },
    {
     "name": "stdout",
     "output_type": "stream",
     "text": [
      "StepIndexFiber instance with:\n",
      "  - Radius: 26.0 um\n",
      "  - Core index: 1.465\n",
      "  - Cladding index: 1.445\n",
      "  - Wavelength: 1064.0 nm\n",
      "  - Numerical aperture: 0.241\n",
      "  - Number of guided LP modes: 181\n",
      "  - Number of guided LP modes (counting degenerates): 350\n",
      "  - First 10 LP_n,m modes characteristics:\n",
      "  n_eff      h          n          m\n",
      "[[ 1.46492062  0.          0.          1.        ]\n",
      " [ 1.46479847  2.          1.          1.        ]\n",
      " [ 1.46463797  4.          2.          1.        ]\n",
      " [ 1.46458174  1.          0.          2.        ]\n",
      " [ 1.46444123  6.          3.          1.        ]\n",
      " [ 1.46432443  3.          1.          2.        ]\n",
      " [ 1.46420956  8.          4.          1.        ]\n",
      " [ 1.46402753  5.          2.          2.        ]\n",
      " [ 1.46397216  2.          0.          3.        ]\n",
      " [ 1.46394383 10.          5.          1.        ]]\n"
     ]
    },
    {
     "name": "stderr",
     "output_type": "stream",
     "text": [
      "c:\\users\\saucourt\\coding\\mmf_lp_modes\\mmfsim\\fiber.py:175: RuntimeWarning: invalid value encountered in sqrt\n",
      "  w = np.sqrt(v**2 - u**2)\n"
     ]
    }
   ],
   "source": [
    "grid = Grid(pixel_size=1e-6, pixel_numbers=(64,64))\n",
    "fiber = StepIndexFiber(radius=26e-6, wavelength=1064e-9, n1=1.465, n2=1.445)\n",
    "coupling_matrix = fiber.modes_coupling_matrix(complex=complex, full=True, degen=True)\n",
    "print(fiber)"
   ]
  },
  {
   "cell_type": "code",
   "execution_count": 3,
   "metadata": {},
   "outputs": [
    {
     "ename": "ValueError",
     "evalue": "invalid entry in coordinates array",
     "output_type": "error",
     "traceback": [
      "\u001b[1;31m---------------------------------------------------------------------------\u001b[0m",
      "\u001b[1;31mValueError\u001b[0m                                Traceback (most recent call last)",
      "Cell \u001b[1;32mIn[3], line 4\u001b[0m\n\u001b[0;32m      2\u001b[0m dset \u001b[38;5;241m=\u001b[39m SimulatedStepIndexSpeckleOutputDataset(fiber, grid, length\u001b[38;5;241m=\u001b[39m\u001b[38;5;241m5000\u001b[39m, N_modes\u001b[38;5;241m=\u001b[39mfiber\u001b[38;5;241m.\u001b[39m_N_modes_degen, degen\u001b[38;5;241m=\u001b[39m\u001b[38;5;28;01mTrue\u001b[39;00m, noise_std\u001b[38;5;241m=\u001b[39m\u001b[38;5;241m0\u001b[39m\u001b[38;5;241m/\u001b[39m\u001b[38;5;241m100\u001b[39m)\n\u001b[0;32m      3\u001b[0m dset\u001b[38;5;241m.\u001b[39m_coupling_matrix \u001b[38;5;241m=\u001b[39m coupling_matrix\n\u001b[1;32m----> 4\u001b[0m \u001b[43mdset\u001b[49m\u001b[38;5;241;43m.\u001b[39;49m\u001b[43mcompute_from_transfer_matrix\u001b[49m\u001b[43m(\u001b[49m\u001b[43mphases_dim\u001b[49m\u001b[38;5;241;43m=\u001b[39;49m\u001b[43m(\u001b[49m\u001b[38;5;241;43m16\u001b[39;49m\u001b[43m,\u001b[49m\u001b[38;5;241;43m16\u001b[39;49m\u001b[43m)\u001b[49m\u001b[43m)\u001b[49m\n",
      "File \u001b[1;32mc:\\users\\saucourt\\coding\\mmf_lp_modes\\mmfsim\\datasets.py:323\u001b[0m, in \u001b[0;36mSimulatedGrinSpeckleOutputDataset.compute_from_transfer_matrix\u001b[1;34m(self, phases_dim, beam_width, magnification, verbose, ref_phi)\u001b[0m\n\u001b[0;32m    320\u001b[0m dm\u001b[38;5;241m.\u001b[39mapply_amplitude_map(beam\u001b[38;5;241m.\u001b[39mamplitude)\n\u001b[0;32m    322\u001b[0m phase_map \u001b[38;5;241m=\u001b[39m \u001b[38;5;241m-\u001b[39mnp\u001b[38;5;241m.\u001b[39mpi \u001b[38;5;241m+\u001b[39m \u001b[38;5;241m2\u001b[39m\u001b[38;5;241m*\u001b[39mnp\u001b[38;5;241m.\u001b[39mpi\u001b[38;5;241m*\u001b[39mnp\u001b[38;5;241m.\u001b[39mrandom\u001b[38;5;241m.\u001b[39mrand(\u001b[38;5;241m*\u001b[39mphases_dim)\n\u001b[1;32m--> 323\u001b[0m \u001b[43mdm\u001b[49m\u001b[38;5;241;43m.\u001b[39;49m\u001b[43mapply_phase_map\u001b[49m\u001b[43m(\u001b[49m\u001b[43mphase_map\u001b[49m\u001b[43m)\u001b[49m\n\u001b[0;32m    324\u001b[0m dm\u001b[38;5;241m.\u001b[39mreduce_by(magnification)\n\u001b[0;32m    325\u001b[0m beam\u001b[38;5;241m.\u001b[39mgrid\u001b[38;5;241m.\u001b[39mreduce_by(magnification)\n",
      "File \u001b[1;32mc:\\users\\saucourt\\coding\\mmf_lp_modes\\mmfsim\\devices.py:200\u001b[0m, in \u001b[0;36mMockDeformableMirror.apply_phase_map\u001b[1;34m(self, phase_map)\u001b[0m\n\u001b[0;32m    198\u001b[0m     \u001b[38;5;28mself\u001b[39m\u001b[38;5;241m.\u001b[39m_partition_size \u001b[38;5;241m=\u001b[39m phase_map\u001b[38;5;241m.\u001b[39mshape\n\u001b[0;32m    199\u001b[0m     \u001b[38;5;28mself\u001b[39m\u001b[38;5;241m.\u001b[39m_phase_map \u001b[38;5;241m=\u001b[39m phase_map\n\u001b[1;32m--> 200\u001b[0m     phase_map \u001b[38;5;241m=\u001b[39m \u001b[38;5;28;43mself\u001b[39;49m\u001b[38;5;241;43m.\u001b[39;49m\u001b[43m_partition_to_matrix\u001b[49m\u001b[43m(\u001b[49m\u001b[43mphase_map\u001b[49m\u001b[43m,\u001b[49m\u001b[43m \u001b[49m\u001b[43mrecompute_idxs\u001b[49m\u001b[43m)\u001b[49m\n\u001b[0;32m    201\u001b[0m \u001b[38;5;28mself\u001b[39m\u001b[38;5;241m.\u001b[39m_field_matrix \u001b[38;5;241m=\u001b[39m np\u001b[38;5;241m.\u001b[39mabs(\u001b[38;5;28mself\u001b[39m\u001b[38;5;241m.\u001b[39m_field_matrix) \u001b[38;5;241m*\u001b[39m np\u001b[38;5;241m.\u001b[39mexp(\u001b[38;5;241m1\u001b[39mj \u001b[38;5;241m*\u001b[39m phase_map)\n\u001b[0;32m    202\u001b[0m \u001b[38;5;28mself\u001b[39m\u001b[38;5;241m.\u001b[39m_field_matrix \u001b[38;5;241m=\u001b[39m \u001b[38;5;28mself\u001b[39m\u001b[38;5;241m.\u001b[39mapply_mask(\u001b[38;5;28mself\u001b[39m\u001b[38;5;241m.\u001b[39m_field_matrix)\n",
      "File \u001b[1;32mc:\\users\\saucourt\\coding\\mmf_lp_modes\\mmfsim\\devices.py:217\u001b[0m, in \u001b[0;36mMockDeformableMirror._partition_to_matrix\u001b[1;34m(self, partition, recompute_partitions_idxs)\u001b[0m\n\u001b[0;32m    215\u001b[0m \u001b[38;5;28;01mdef\u001b[39;00m \u001b[38;5;21m_partition_to_matrix\u001b[39m(\u001b[38;5;28mself\u001b[39m, partition: np\u001b[38;5;241m.\u001b[39mndarray, recompute_partitions_idxs: \u001b[38;5;28mbool\u001b[39m \u001b[38;5;241m=\u001b[39m \u001b[38;5;28;01mFalse\u001b[39;00m):\n\u001b[0;32m    216\u001b[0m     \u001b[38;5;28;01mif\u001b[39;00m recompute_partitions_idxs:\n\u001b[1;32m--> 217\u001b[0m         \u001b[38;5;28;43mself\u001b[39;49m\u001b[38;5;241;43m.\u001b[39;49m\u001b[43m_compute_partitions_idxs\u001b[49m\u001b[43m(\u001b[49m\u001b[43m)\u001b[49m\n\u001b[0;32m    218\u001b[0m         \u001b[38;5;28mself\u001b[39m\u001b[38;5;241m.\u001b[39m_count_partitions_pixels()\n\u001b[0;32m    219\u001b[0m         \u001b[38;5;28mself\u001b[39m\u001b[38;5;241m.\u001b[39m_macropixels_integrated_energies()\n",
      "File \u001b[1;32mc:\\users\\saucourt\\coding\\mmf_lp_modes\\mmfsim\\devices.py:237\u001b[0m, in \u001b[0;36mMockDeformableMirror._compute_partitions_idxs\u001b[1;34m(self)\u001b[0m\n\u001b[0;32m    235\u001b[0m     \u001b[38;5;28;01mfor\u001b[39;00m mpx_col \u001b[38;5;129;01min\u001b[39;00m \u001b[38;5;28mrange\u001b[39m(\u001b[38;5;28mself\u001b[39m\u001b[38;5;241m.\u001b[39m_partition_size[\u001b[38;5;241m1\u001b[39m]):\n\u001b[0;32m    236\u001b[0m         cols \u001b[38;5;241m=\u001b[39m np\u001b[38;5;241m.\u001b[39marange(\u001b[38;5;241m0\u001b[39m, \u001b[38;5;28mself\u001b[39m\u001b[38;5;241m.\u001b[39m_macropixel_size) \u001b[38;5;241m+\u001b[39m mpx_col \u001b[38;5;241m*\u001b[39m \u001b[38;5;28mself\u001b[39m\u001b[38;5;241m.\u001b[39m_macropixel_size \u001b[38;5;241m+\u001b[39m offset\n\u001b[1;32m--> 237\u001b[0m         mpx_lin_idxs \u001b[38;5;241m=\u001b[39m \u001b[43mnp\u001b[49m\u001b[38;5;241;43m.\u001b[39;49m\u001b[43mravel_multi_index\u001b[49m\u001b[43m(\u001b[49m\u001b[43mnp\u001b[49m\u001b[38;5;241;43m.\u001b[39;49m\u001b[43mmeshgrid\u001b[49m\u001b[43m(\u001b[49m\u001b[43mrows\u001b[49m\u001b[43m,\u001b[49m\u001b[43m \u001b[49m\u001b[43mcols\u001b[49m\u001b[43m)\u001b[49m\u001b[43m,\u001b[49m\u001b[43m \u001b[49m\u001b[43mdims\u001b[49m\u001b[38;5;241;43m=\u001b[39;49m\u001b[38;5;28;43mtuple\u001b[39;49m\u001b[43m(\u001b[49m\u001b[38;5;28;43mself\u001b[39;49m\u001b[38;5;241;43m.\u001b[39;49m\u001b[43mpixel_numbers\u001b[49m\u001b[43m)\u001b[49m\u001b[43m)\u001b[49m\n\u001b[0;32m    238\u001b[0m         \u001b[38;5;28mself\u001b[39m\u001b[38;5;241m.\u001b[39m_partitions_idxs[mpx_row, mpx_col, :] \u001b[38;5;241m=\u001b[39m mpx_lin_idxs\u001b[38;5;241m.\u001b[39mflatten()\u001b[38;5;241m.\u001b[39mastype(\u001b[38;5;28mint\u001b[39m)\n\u001b[0;32m    239\u001b[0m \u001b[38;5;28mself\u001b[39m\u001b[38;5;241m.\u001b[39m_partitions_idxs \u001b[38;5;241m=\u001b[39m \u001b[38;5;28mself\u001b[39m\u001b[38;5;241m.\u001b[39m_partitions_idxs\u001b[38;5;241m.\u001b[39mastype(\u001b[38;5;28mint\u001b[39m)\n",
      "\u001b[1;31mValueError\u001b[0m: invalid entry in coordinates array"
     ]
    }
   ],
   "source": [
    "# dset = SimulatedStepIndexSpeckleOutputDataset(fiber, grid, length=5000, N_modes=500, degen=True, noise_std=0/100)\n",
    "dset = SimulatedStepIndexSpeckleOutputDataset(fiber, grid, length=5000, N_modes=fiber._N_modes_degen, degen=True, noise_std=0/100)\n",
    "dset._coupling_matrix = coupling_matrix\n",
    "dset.compute_from_transfer_matrix(phases_dim=(16,16))"
   ]
  },
  {
   "cell_type": "code",
   "execution_count": null,
   "metadata": {},
   "outputs": [],
   "source": [
    "dset.compute_fourier_transforms(pad=2)"
   ]
  },
  {
   "cell_type": "code",
   "execution_count": null,
   "metadata": {},
   "outputs": [],
   "source": [
    "ridx = np.random.randint(0, dset._fields.shape[-1])\n",
    "plt.imshow(dset[ridx])"
   ]
  },
  {
   "cell_type": "code",
   "execution_count": null,
   "metadata": {},
   "outputs": [],
   "source": [
    "plt.imshow(np.abs(dset._transfer_matrix[1,...]))"
   ]
  },
  {
   "cell_type": "code",
   "execution_count": null,
   "metadata": {},
   "outputs": [],
   "source": [
    "dset.export(return_output_fields=True, add_exp_noise=True, noise_func=np.max, file_type='matlab')"
   ]
  }
 ],
 "metadata": {
  "kernelspec": {
   "display_name": ".venv",
   "language": "python",
   "name": "python3"
  },
  "language_info": {
   "codemirror_mode": {
    "name": "ipython",
    "version": 3
   },
   "file_extension": ".py",
   "mimetype": "text/x-python",
   "name": "python",
   "nbconvert_exporter": "python",
   "pygments_lexer": "ipython3",
   "version": "3.9.13"
  },
  "orig_nbformat": 4
 },
 "nbformat": 4,
 "nbformat_minor": 2
}
