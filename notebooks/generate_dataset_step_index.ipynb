{
 "cells": [
  {
   "attachments": {},
   "cell_type": "markdown",
   "metadata": {},
   "source": [
    "## Dataset generation from deformable mirror and GRIN fiber"
   ]
  },
  {
   "cell_type": "code",
   "execution_count": null,
   "metadata": {},
   "outputs": [],
   "source": [
    "%load_ext autoreload\n",
    "%autoreload 2\n",
    "\n",
    "import numpy as np\n",
    "import matplotlib.pyplot as plt\n",
    "\n",
    "from mmfsim.grid import Grid\n",
    "from mmfsim.fiber import StepIndexFiber\n",
    "from mmfsim.datasets import SimulatedStepIndexSpeckleOutputDataset"
   ]
  },
  {
   "cell_type": "code",
   "execution_count": null,
   "metadata": {},
   "outputs": [],
   "source": [
    "grid = Grid(pixel_size=0.5e-6, pixel_numbers=(128,128))\n",
    "fiber = StepIndexFiber(radius=26e-6, wavelength=632e-9, n1=1.465, n2=1.445)\n",
    "coupling_matrix = fiber.modes_coupling_matrix(complex=complex, full=True, degen=True)\n",
    "print(fiber)"
   ]
  },
  {
   "cell_type": "code",
   "execution_count": null,
   "metadata": {},
   "outputs": [],
   "source": [
    "# dset = SimulatedStepIndexSpeckleOutputDataset(fiber, grid, length=5000, N_modes=500, degen=True, noise_std=0/100)\n",
    "dset = SimulatedStepIndexSpeckleOutputDataset(fiber, grid, length=5000, N_modes=fiber._N_modes_degen, degen=True, noise_std=0/100)\n",
    "dset._coupling_matrix = coupling_matrix\n",
    "dset.compute_from_transfer_matrix(phases_dim=(12,12))"
   ]
  },
  {
   "cell_type": "code",
   "execution_count": null,
   "metadata": {},
   "outputs": [],
   "source": [
    "dset.compute_fourier_transforms(pad=2)"
   ]
  },
  {
   "cell_type": "code",
   "execution_count": null,
   "metadata": {},
   "outputs": [],
   "source": [
    "ridx = np.random.randint(0, dset._fields.shape[-1])\n",
    "plt.imshow(dset[ridx])"
   ]
  },
  {
   "cell_type": "code",
   "execution_count": null,
   "metadata": {},
   "outputs": [],
   "source": [
    "plt.imshow(np.abs(dset._transfer_matrix[1,...]))"
   ]
  },
  {
   "cell_type": "code",
   "execution_count": null,
   "metadata": {},
   "outputs": [],
   "source": [
    "dset.export(return_output_fields=True, add_exp_noise=True, noise_func=np.max, file_type='matlab')"
   ]
  }
 ],
 "metadata": {
  "kernelspec": {
   "display_name": ".venv",
   "language": "python",
   "name": "python3"
  },
  "language_info": {
   "codemirror_mode": {
    "name": "ipython",
    "version": 3
   },
   "file_extension": ".py",
   "mimetype": "text/x-python",
   "name": "python",
   "nbconvert_exporter": "python",
   "pygments_lexer": "ipython3",
   "version": "3.9.13"
  },
  "orig_nbformat": 4
 },
 "nbformat": 4,
 "nbformat_minor": 2
}
