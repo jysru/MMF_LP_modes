{
 "cells": [
  {
   "attachments": {},
   "cell_type": "markdown",
   "metadata": {},
   "source": [
    "## Dataset generation from deformable mirror and GRIN fiber"
   ]
  },
  {
   "cell_type": "code",
   "execution_count": 1,
   "metadata": {},
   "outputs": [],
   "source": [
    "from lib.grid import Grid\n",
    "from lib.fiber import GrinFiber\n",
    "from lib.datasets import SimulatedGrinSpeckleOutputDataset"
   ]
  },
  {
   "cell_type": "code",
   "execution_count": null,
   "metadata": {},
   "outputs": [],
   "source": [
    "grid = Grid(pixel_size=0.5e-6)\n",
    "fiber = GrinFiber(radius=26e-6, wavelength=1064e-9, n1=1.465, n2=1.45)\n",
    "\n",
    "dset = SimulatedGrinSpeckleOutputDataset(fiber, grid, length=100, N_modes=55)\n",
    "dset.compute(phases_dim=(6,6))\n",
    "dset.export()"
   ]
  }
 ],
 "metadata": {
  "kernelspec": {
   "display_name": ".venv",
   "language": "python",
   "name": "python3"
  },
  "language_info": {
   "codemirror_mode": {
    "name": "ipython",
    "version": 3
   },
   "file_extension": ".py",
   "mimetype": "text/x-python",
   "name": "python",
   "nbconvert_exporter": "python",
   "pygments_lexer": "ipython3",
   "version": "3.9.13"
  },
  "orig_nbformat": 4
 },
 "nbformat": 4,
 "nbformat_minor": 2
}
