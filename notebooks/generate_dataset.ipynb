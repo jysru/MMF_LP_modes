{
 "cells": [
  {
   "attachments": {},
   "cell_type": "markdown",
   "metadata": {},
   "source": [
    "## Dataset generation from deformable mirror and GRIN fiber"
   ]
  },
  {
   "cell_type": "code",
   "execution_count": 5,
   "metadata": {},
   "outputs": [],
   "source": [
    "from lib.grid import Grid\n",
    "from lib.fiber import GrinFiber\n",
    "from lib.datasets import SimulatedGrinSpeckleOutputDataset"
   ]
  },
  {
   "cell_type": "code",
   "execution_count": 6,
   "metadata": {},
   "outputs": [
    {
     "ename": "NameError",
     "evalue": "name 'fiber' is not defined",
     "output_type": "error",
     "traceback": [
      "\u001b[1;31m---------------------------------------------------------------------------\u001b[0m",
      "\u001b[1;31mNameError\u001b[0m                                 Traceback (most recent call last)",
      "Cell \u001b[1;32mIn[6], line 5\u001b[0m\n\u001b[0;32m      2\u001b[0m fiber \u001b[39m=\u001b[39m GrinFiber(radius\u001b[39m=\u001b[39m\u001b[39m26e-6\u001b[39m, wavelength\u001b[39m=\u001b[39m\u001b[39m1064e-9\u001b[39m, n1\u001b[39m=\u001b[39m\u001b[39m1.465\u001b[39m, n2\u001b[39m=\u001b[39m\u001b[39m1.45\u001b[39m)\n\u001b[0;32m      4\u001b[0m dset \u001b[39m=\u001b[39m SimulatedGrinSpeckleOutputDataset(fiber, grid, length\u001b[39m=\u001b[39m\u001b[39m100\u001b[39m, N_modes\u001b[39m=\u001b[39m\u001b[39m55\u001b[39m)\n\u001b[1;32m----> 5\u001b[0m dset\u001b[39m.\u001b[39;49mcompute(phases_dim\u001b[39m=\u001b[39;49m(\u001b[39m6\u001b[39;49m,\u001b[39m6\u001b[39;49m))\n\u001b[0;32m      6\u001b[0m dset\u001b[39m.\u001b[39mexport()\n",
      "File \u001b[1;32mc:\\users\\saucourt\\coding\\mmf_lp_modes\\lib\\datasets.py:114\u001b[0m, in \u001b[0;36mSimulatedGrinSpeckleOutputDataset.compute\u001b[1;34m(self, phases_dim, beam_width, magnification, verbose)\u001b[0m\n\u001b[0;32m    111\u001b[0m beam\u001b[39m.\u001b[39mgrid\u001b[39m.\u001b[39mreduce_by(magnification)\n\u001b[0;32m    112\u001b[0m beam\u001b[39m.\u001b[39mfield \u001b[39m=\u001b[39m dm\u001b[39m.\u001b[39m_field_matrix\n\u001b[1;32m--> 114\u001b[0m coupled_in \u001b[39m=\u001b[39m GrinFiberCoupler(beam\u001b[39m.\u001b[39mfield, beam\u001b[39m.\u001b[39mgrid, fiber, N_modes\u001b[39m=\u001b[39m\u001b[39mself\u001b[39m\u001b[39m.\u001b[39m_N_modes)\n\u001b[0;32m    115\u001b[0m propagated_field \u001b[39m=\u001b[39m coupled_in\u001b[39m.\u001b[39mpropagate(matrix\u001b[39m=\u001b[39m\u001b[39mself\u001b[39m\u001b[39m.\u001b[39m_coupling_matrix)\n\u001b[0;32m    116\u001b[0m coupled_out \u001b[39m=\u001b[39m GrinFiberCoupler(propagated_field, beam\u001b[39m.\u001b[39mgrid, N_modes\u001b[39m=\u001b[39m\u001b[39mself\u001b[39m\u001b[39m.\u001b[39m_N_modes)\n",
      "\u001b[1;31mNameError\u001b[0m: name 'fiber' is not defined"
     ]
    }
   ],
   "source": [
    "grid = Grid(pixel_size=0.5e-6)\n",
    "fiber = GrinFiber(radius=26e-6, wavelength=1064e-9, n1=1.465, n2=1.45)\n",
    "\n",
    "dset = SimulatedGrinSpeckleOutputDataset(fiber, grid, length=100, N_modes=55)\n",
    "dset.compute(phases_dim=(6,6))\n",
    "dset.export()"
   ]
  }
 ],
 "metadata": {
  "kernelspec": {
   "display_name": ".venv",
   "language": "python",
   "name": "python3"
  },
  "language_info": {
   "codemirror_mode": {
    "name": "ipython",
    "version": 3
   },
   "file_extension": ".py",
   "mimetype": "text/x-python",
   "name": "python",
   "nbconvert_exporter": "python",
   "pygments_lexer": "ipython3",
   "version": "3.9.13"
  },
  "orig_nbformat": 4
 },
 "nbformat": 4,
 "nbformat_minor": 2
}
