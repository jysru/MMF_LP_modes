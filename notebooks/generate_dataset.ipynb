{
 "cells": [
  {
   "attachments": {},
   "cell_type": "markdown",
   "metadata": {},
   "source": [
    "## Dataset generation from deformable mirror\n",
    "\n",
    "A Parabolic GRIN fiber or a Step-Index fiber can be used\n",
    "\n",
    "### Imports"
   ]
  },
  {
   "cell_type": "code",
   "execution_count": null,
   "metadata": {},
   "outputs": [],
   "source": [
    "%load_ext autoreload\n",
    "%autoreload 2\n",
    "\n",
    "import numpy as np\n",
    "import matplotlib.pyplot as plt\n",
    "\n",
    "from mmfsim.grid import Grid\n",
    "from mmfsim.fiber import GrinFiber, StepIndexFiber\n",
    "from mmfsim.datasets import SimulatedGrinSpeckleOutputDataset, SimulatedStepIndexSpeckleOutputDataset"
   ]
  },
  {
   "cell_type": "markdown",
   "source": [
    "### Setup\n",
    "\n",
    "Set the computation grid and the fiber characteristics"
   ],
   "metadata": {
    "collapsed": false
   }
  },
  {
   "cell_type": "code",
   "execution_count": null,
   "outputs": [],
   "source": [
    "fiber_type: str = 'grin' # 'grin' or 'step'\n",
    "grid_settings: dict = {'pixel_size': 0.25e-6, 'pixel_numbers': (256, 256)}\n",
    "fiber_settings: dict = {'radius': 26e-6, 'wavelength': 435e-9, 'n1': 1.465, 'n2': 1.45}\n",
    "dataset_settings: dict = {'length': 1000, 'degen': True, 'phases_dim': (20,20)}\n",
    "fourier_settings: dict = {'pad': 1}\n",
    "export_settings: dict = {'return_output_fields': True, 'add_exp_noise': False, 'noise_func': np.max, 'file_type': 'hdf5'}"
   ],
   "metadata": {
    "collapsed": false
   }
  },
  {
   "cell_type": "markdown",
   "source": [
    "### Dataset generation\n",
    "\n",
    "Generate the grid and the fiber"
   ],
   "metadata": {
    "collapsed": false
   }
  },
  {
   "cell_type": "code",
   "execution_count": null,
   "metadata": {},
   "outputs": [],
   "source": [
    "grid = Grid(**grid_settings)\n",
    "\n",
    "if fiber_type.lower() in ['grin']:\n",
    "    fiber = GrinFiber(**fiber_settings)\n",
    "elif fiber_type.lower() in ['step', 'si']:\n",
    "    fiber = StepIndexFiber(**fiber_settings)\n",
    "else:\n",
    "    raise ValueError(f\"Unknown fiber type.\")\n",
    "print(fiber)"
   ]
  },
  {
   "cell_type": "markdown",
   "source": [
    "Compute and store the modes for a much faster dataset generation, plot one for checking extent"
   ],
   "metadata": {
    "collapsed": false
   }
  },
  {
   "cell_type": "code",
   "execution_count": null,
   "outputs": [],
   "source": [
    "fiber.compute_modes_fields(grid)\n",
    "plt.imshow(fiber._modes[:,:,1,-1])"
   ],
   "metadata": {
    "collapsed": false
   }
  },
  {
   "cell_type": "markdown",
   "source": [
    "Compute dataset"
   ],
   "metadata": {
    "collapsed": false
   }
  },
  {
   "cell_type": "code",
   "execution_count": null,
   "metadata": {
    "is_executing": true
   },
   "outputs": [],
   "source": [
    "dset = SimulatedGrinSpeckleOutputDataset(fiber, grid, N_modes=fiber._N_modes_degen, **dataset_settings)\n",
    "dset.compute_from_transfer_matrix(phases_dim=dataset_settings['phases_dim'])\n",
    "dset.compute_fourier_transforms(**fourier_settings)"
   ]
  },
  {
   "cell_type": "markdown",
   "source": [
    "### Dataset checking and export\n",
    "\n",
    "Display a random draw from the dataset as a check"
   ],
   "metadata": {
    "collapsed": false
   }
  },
  {
   "cell_type": "code",
   "execution_count": null,
   "outputs": [],
   "source": [
    "rand_idx = np.random.randint(0, dset._fields.shape[-1])\n",
    "\n",
    "fig, axs = plt.subplots(1, 2, figsize=(15, 5))\n",
    "nf = axs[0].imshow(dset.intensities[..., rand_idx], cmap='gray')\n",
    "ff = axs[1].imshow(np.square(np.abs(dset._transf[..., rand_idx])), cmap='gray')\n",
    "plt.colorbar(nf, ax=axs[0], fraction=0.046, pad=0.04)\n",
    "plt.colorbar(ff, ax=axs[1], fraction=0.046, pad=0.04)\n",
    "axs[0].set_title('Near field intensity')\n",
    "axs[1].set_title('Far field intensity')"
   ],
   "metadata": {
    "collapsed": false
   }
  },
  {
   "cell_type": "markdown",
   "source": [
    "Export it if it looks ok"
   ],
   "metadata": {
    "collapsed": false
   }
  },
  {
   "cell_type": "code",
   "execution_count": null,
   "metadata": {},
   "outputs": [],
   "source": [
    "dset.export(**export_settings)"
   ]
  }
 ],
 "metadata": {
  "kernelspec": {
   "display_name": ".venv",
   "language": "python",
   "name": "python3"
  },
  "language_info": {
   "codemirror_mode": {
    "name": "ipython",
    "version": 3
   },
   "file_extension": ".py",
   "mimetype": "text/x-python",
   "name": "python",
   "nbconvert_exporter": "python",
   "pygments_lexer": "ipython3",
   "version": "3.9.13"
  },
  "orig_nbformat": 4
 },
 "nbformat": 4,
 "nbformat_minor": 2
}
