{
 "cells": [
  {
   "attachments": {},
   "cell_type": "markdown",
   "metadata": {},
   "source": [
    "## Dataset generation from deformable mirror and GRIN fiber"
   ]
  },
  {
   "cell_type": "code",
   "execution_count": 9,
   "metadata": {},
   "outputs": [
    {
     "name": "stdout",
     "output_type": "stream",
     "text": [
      "The autoreload extension is already loaded. To reload it, use:\n",
      "  %reload_ext autoreload\n",
      "N_modes\n",
      "coupling_matrix\n",
      "degenerated_modes\n",
      "fields\n",
      "[[-2.15806420e-06-1.43042935e-06j -2.53034957e-06-1.59311499e-06j\n",
      "  -2.93338951e-06-1.76608607e-06j ...  6.79426465e-06+3.29035953e-06j\n",
      "   6.35728893e-06+3.01941907e-06j  5.93676562e-06+2.76360391e-06j]\n",
      " [-2.01464032e-06-1.40376016e-06j -2.39807397e-06-1.57255658e-06j\n",
      "  -2.81455536e-06-1.75244829e-06j ...  7.09585640e-06+3.38220069e-06j\n",
      "   6.62422381e-06+3.09309451e-06j  6.17157683e-06+2.82090780e-06j]\n",
      " [-1.84319187e-06-1.36691518e-06j -2.23677351e-06-1.54156646e-06j\n",
      "  -2.66577040e-06-1.72814895e-06j ...  7.39647799e-06+3.46490513e-06j\n",
      "   6.88853474e-06+3.15715065e-06j  6.40233391e-06+2.86824341e-06j]\n",
      " ...\n",
      " [-5.35661560e-06-2.85129393e-06j -5.76936697e-06-3.12573093e-06j\n",
      "  -6.20004322e-06-3.41664422e-06j ...  2.65895044e-06+1.90229208e-06j\n",
      "   2.18583780e-06+1.69604738e-06j  1.75536646e-06+1.50331890e-06j]\n",
      " [-5.22140719e-06-2.79708667e-06j -5.60806784e-06-3.05550132e-06j\n",
      "  -6.01033399e-06-3.32865011e-06j ...  2.84043979e-06+1.90908883e-06j\n",
      "   2.38117443e-06+1.71189395e-06j  1.96167711e-06+1.52713103e-06j]\n",
      " [-5.07370351e-06-2.73443714e-06j -5.43494274e-06-2.97718767e-06j\n",
      "  -5.80963730e-06-3.23304997e-06j ...  2.98618822e-06+1.90667075e-06j\n",
      "   2.54186792e-06+1.71851846e-06j  2.13454018e-06+1.54177107e-06j]]\n",
      "intens\n",
      "intens_transf\n",
      "length\n",
      "macropixels_energy\n",
      "phase_maps\n",
      "reshaped_transfer_matrix\n",
      "transfer_matrix\n",
      "wavelength\n"
     ]
    }
   ],
   "source": [
    "%load_ext autoreload\n",
    "%autoreload 2\n",
    "\n",
    "import h5py\n",
    "\n",
    "mdict = {}\n",
    "\n",
    "with h5py.File('synth_dset_step_lambda=532nm_Nmodes=1374_degen=True_len=10000_mirr=900_exp_noise.hdf5', 'r') as hf:\n",
    "    for key_name in hf.keys():\n",
    "        print(key_name)\n",
    "        if key_name == 'fields':\n",
    "            print(hf[key_name][()][...,1])\n",
    "        # mdict[key_name] = hf[key_name][()]"
   ]
  }
 ],
 "metadata": {
  "kernelspec": {
   "display_name": ".venv",
   "language": "python",
   "name": "python3"
  },
  "language_info": {
   "codemirror_mode": {
    "name": "ipython",
    "version": 3
   },
   "file_extension": ".py",
   "mimetype": "text/x-python",
   "name": "python",
   "nbconvert_exporter": "python",
   "pygments_lexer": "ipython3",
   "version": "3.9.13"
  },
  "orig_nbformat": 4
 },
 "nbformat": 4,
 "nbformat_minor": 2
}
