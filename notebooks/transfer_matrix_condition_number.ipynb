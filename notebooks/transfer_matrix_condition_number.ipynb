{
 "cells": [
  {
   "attachments": {},
   "cell_type": "markdown",
   "metadata": {},
   "source": [
    "## Dataset generation from deformable mirror and GRIN fiber\n",
    "\n",
    "Compare condition numbers of transfer matrices for varying illumination wavelengths and deformable mirror partitionings.\n",
    "\n",
    "### Imports"
   ]
  },
  {
   "cell_type": "code",
   "execution_count": null,
   "metadata": {},
   "outputs": [],
   "source": [
    "%load_ext autoreload\n",
    "%autoreload 2\n",
    "\n",
    "import numpy as np\n",
    "import matplotlib.pyplot as plt\n",
    "\n",
    "from mmfsim.grid import Grid\n",
    "from mmfsim.fiber import GrinFiber\n",
    "from mmfsim.datasets import SimulatedGrinSpeckleOutputDataset, GrinLPSpeckleDataset, GrinLPDegenSpeckleDataset"
   ]
  },
  {
   "attachments": {},
   "cell_type": "markdown",
   "metadata": {},
   "source": [
    "### Loop through wavelengths and partitionings and compute condition numbers"
   ]
  },
  {
   "cell_type": "code",
   "execution_count": null,
   "metadata": {},
   "outputs": [],
   "source": [
    "phases_dims = [(4,4), (6,6), (8,8), (10,10), (12,12)]\n",
    "lambdas = [1064e-9, 980e-9, 800e-9, 632e-9, 532e-9, 435e-9]\n",
    "grid = Grid(pixel_size=0.5e-6, pixel_numbers=(128, 128))\n",
    "\n",
    "conds = np.zeros(shape=(len(phases_dims), len(lambdas))) * np.nan\n",
    "sings = []\n",
    "\n",
    "\n",
    "for phi in range(len(phases_dims)):\n",
    "    sings_lamb = []\n",
    "\n",
    "    for lamb in range(len(lambdas)):\n",
    "        fiber = GrinFiber(radius=26e-6, wavelength=lambdas[lamb], n1=1.465, n2=1.45)\n",
    "        dset = SimulatedGrinSpeckleOutputDataset(fiber, grid, length=1, N_modes=fiber._N_modes_degen, degen=True, noise_std=0/100)\n",
    "        dset.compute(phases_dim=phases_dims[phi])\n",
    "\n",
    "        tm = dset._transfer_matrix\n",
    "        tm = tm.reshape(tm.shape[0], np.prod(tm.shape[1:]))\n",
    "\n",
    "        del_rows = []\n",
    "        for j in range(tm.shape[0]):\n",
    "            if np.any(np.isnan(tm[j, :])):\n",
    "                del_rows.append(j)\n",
    "\n",
    "        tm = np.delete(tm, del_rows, axis=0)\n",
    "        U, S, Vh = np.linalg.svd(tm, full_matrices=False)\n",
    "\n",
    "        sings_lamb.append(S / np.max(S))\n",
    "        conds[phi, lamb] = np.max(S) / np.min(S)\n",
    "\n",
    "        print(f\"Phi: {phases_dims[phi]}, lambda: {lambdas[lamb]*1e9}\")\n",
    "\n",
    "\n",
    "    sings.append(sings_lamb)"
   ]
  },
  {
   "attachments": {},
   "cell_type": "markdown",
   "metadata": {},
   "source": [
    "### Loop through wavelength and partitionings and plot normalized singular values"
   ]
  },
  {
   "cell_type": "code",
   "execution_count": null,
   "metadata": {},
   "outputs": [],
   "source": [
    "colors = [[1, 0, 0], [.8, 0, .2], [.6, 0, .4], [.4, 0, .6], [.2, 0, .8], [0, 0, 1]]\n",
    "\n",
    "phases_dims = [(4,4), (6,6), (8,8), (10,10), (12,12)]\n",
    "lambdas = [1064e-9, 980e-9, 800e-9, 632e-9, 532e-9, 435e-9]\n",
    "\n",
    "for phi in range(len(phases_dims)):\n",
    "    plt.figure()\n",
    "    plt.grid(ls='dashed')\n",
    "    plt.yscale('log')\n",
    "    plt.xlabel(\"Singular value index\")\n",
    "    plt.ylabel(\"Normalized singular value\")\n",
    "    plt.title(f\"Normalized singular values from linear models\\nMacropixels: {phases_dims[phi]}\")\n",
    "\n",
    "    for lamb in range(len(lambdas)):\n",
    "        plt.plot(sings[phi][lamb], color=colors[lamb], label=(r\"$\\lambda$\" + f\"= {lambdas[lamb] * 1e9:.0f} nm\"))\n",
    "    \n",
    "    plt.ylim([1e-3, 2e0])\n",
    "    plt.legend()\n",
    "    plt.savefig(f\"nsings_{phases_dims[phi]}.svg\")\n",
    "    plt.show()"
   ]
  },
  {
   "attachments": {},
   "cell_type": "markdown",
   "metadata": {},
   "source": [
    "### Plot summary"
   ]
  },
  {
   "cell_type": "code",
   "execution_count": null,
   "metadata": {},
   "outputs": [],
   "source": [
    "n_modes = np.zeros(shape=(len(phases_dims), len(lambdas))) * np.nan\n",
    "\n",
    "for phi in range(len(phases_dims)):\n",
    "    sings_lamb = []\n",
    "\n",
    "    for lamb in range(len(lambdas)):\n",
    "        fiber = GrinFiber(radius=26e-6, wavelength=lambdas[lamb], n1=1.465, n2=1.45)\n",
    "        n_modes[phi, lamb] = fiber._N_modes\n",
    "        "
   ]
  },
  {
   "cell_type": "code",
   "execution_count": null,
   "metadata": {},
   "outputs": [],
   "source": [
    "phases_labels = [f\"{phases_dims[phi][0]}x{phases_dims[phi][1]}\" for phi in range(len(phases_dims))]\n",
    "lambdas_labels = [( f\"{lambdas[lamb] * 1e9:.0f} nm\") for lamb in range(len(lambdas))]\n",
    "\n",
    "\n",
    "fig, ax = plt.subplots()\n",
    "im = ax.imshow(np.log10(conds), cmap='gray')\n",
    "\n",
    "# # Show all ticks and label them with the respective list entries\n",
    "ax.set_xticks(np.arange(len(lambdas)), labels=lambdas_labels)\n",
    "ax.set_yticks(np.arange(len(phases_dims)), labels=phases_labels)\n",
    "\n",
    "# Rotate the tick labels and set their alignment.\n",
    "plt.setp(ax.get_xticklabels(), rotation=45, ha=\"right\",\n",
    "         rotation_mode=\"anchor\")\n",
    "\n",
    "# Loop over data dimensions and create text annotations.\n",
    "for i in range(len(phases_dims)):\n",
    "    for j in range(len(lambdas)):\n",
    "        text = ax.text(j, i, f\"{n_modes[i, j]:.0f}\",\n",
    "                       ha=\"center\", va=\"top\", color=\"r\")\n",
    "        text = ax.text(j, i, f\"{np.log10(conds[i, j]):.1f}\",\n",
    "                       ha=\"center\", va=\"bottom\", color=\"b\")\n",
    "\n",
    "ax.set_title(f\"Condition number\\nRed = Number of LP modes, Blue = log10(Condition number)\")\n",
    "ax.set_xlabel(f\"Wavelength\")\n",
    "ax.set_ylabel(f\"Deformable mirror macropixels\")\n",
    "\n",
    "fig.tight_layout()\n",
    "plt.colorbar(im, ax=ax)\n",
    "\n",
    "plt.savefig('condition_number_summary.svg')\n",
    "plt.show()"
   ]
  }
 ],
 "metadata": {
  "kernelspec": {
   "display_name": ".venv",
   "language": "python",
   "name": "python3"
  },
  "language_info": {
   "codemirror_mode": {
    "name": "ipython",
    "version": 3
   },
   "file_extension": ".py",
   "mimetype": "text/x-python",
   "name": "python",
   "nbconvert_exporter": "python",
   "pygments_lexer": "ipython3",
   "version": "3.9.13"
  },
  "orig_nbformat": 4
 },
 "nbformat": 4,
 "nbformat_minor": 2
}
